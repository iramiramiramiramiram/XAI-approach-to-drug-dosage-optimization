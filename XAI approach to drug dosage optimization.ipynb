{
 "cells": [
  {
   "cell_type": "code",
   "execution_count": 13,
   "id": "783c64d7",
   "metadata": {},
   "outputs": [
    {
     "name": "stdout",
     "output_type": "stream",
     "text": [
      "<class 'pandas.core.frame.DataFrame'>\n",
      "RangeIndex: 34284 entries, 0 to 34283\n",
      "Data columns (total 23 columns):\n",
      " #   Column                 Non-Null Count  Dtype  \n",
      "---  ------                 --------------  -----  \n",
      " 0   web-scraper-order      34284 non-null  object \n",
      " 1   web-scraper-start-url  34284 non-null  object \n",
      " 2   Links                  34284 non-null  object \n",
      " 3   Links-href             34284 non-null  object \n",
      " 4   Name                   34284 non-null  object \n",
      " 5   Uses                   34121 non-null  object \n",
      " 6   Price                  24903 non-null  object \n",
      " 7   Composition            34284 non-null  object \n",
      " 8   Side_effects           33649 non-null  object \n",
      " 9   Alcohol                29499 non-null  object \n",
      " 10  Pregnancy              34109 non-null  object \n",
      " 11  Breast feeding         32835 non-null  object \n",
      " 12  Driving                28941 non-null  object \n",
      " 13  Kidney                 28004 non-null  object \n",
      " 14  Liver                  28004 non-null  object \n",
      " 15  Poor                   16451 non-null  object \n",
      " 16  Excellent              13601 non-null  object \n",
      " 17  Average                10121 non-null  object \n",
      " 18  How_to_use             34251 non-null  object \n",
      " 19  Status                 30755 non-null  object \n",
      " 20  manufacturer           34284 non-null  object \n",
      " 21  Unit Quantity          20984 non-null  float64\n",
      " 22  Unit Type              32254 non-null  object \n",
      "dtypes: float64(1), object(22)\n",
      "memory usage: 6.0+ MB\n"
     ]
    },
    {
     "data": {
      "text/plain": [
       "(  web-scraper-order                            web-scraper-start-url  \\\n",
       " 0      1698600802-3  https://www.1mg.com/drugs-all-medicines?page=50   \n",
       " 1      1698600802-3  https://www.1mg.com/drugs-all-medicines?page=50   \n",
       " 2    1698606345-964  https://www.1mg.com/drugs-all-medicines?page=18   \n",
       " 3    1698606345-964  https://www.1mg.com/drugs-all-medicines?page=18   \n",
       " 4      1698600815-7  https://www.1mg.com/drugs-all-medicines?page=50   \n",
       " \n",
       "                                                Links  \\\n",
       " 0  Aceloflam Plus TabletMRP₹94Prescription Requir...   \n",
       " 1  Aceloflam Plus TabletMRP₹94Prescription Requir...   \n",
       " 2  Aceloflam Plus TabletMRP₹63Prescription Requir...   \n",
       " 3  Aceloflam Plus TabletMRP₹63Prescription Requir...   \n",
       " 4  Adriamycin 50mg InjectionMRP₹889Prescription R...   \n",
       " \n",
       "                                           Links-href  \\\n",
       " 0  https://www.1mg.com/drugs/aceloflam-plus-table...   \n",
       " 1  https://www.1mg.com/drugs/aceloflam-plus-table...   \n",
       " 2  https://www.1mg.com/drugs/aceloflam-plus-table...   \n",
       " 3  https://www.1mg.com/drugs/aceloflam-plus-table...   \n",
       " 4  https://www.1mg.com/drugs/adriamycin-50mg-inje...   \n",
       " \n",
       "                         Name         Uses    Price  \\\n",
       " 0      Aceloflam Plus Tablet  Pain relief    ₹86.5   \n",
       " 1      Aceloflam Plus Tablet  Pain relief    ₹86.5   \n",
       " 2      Aceloflam Plus Tablet  Pain relief  ₹159.68   \n",
       " 3      Aceloflam Plus Tablet  Pain relief  ₹159.68   \n",
       " 4  Adriamycin 50mg Injection       Cancer     ₹282   \n",
       " \n",
       "                                  Composition  \\\n",
       " 0  Aceclofenac (100mg) + Paracetamol (325mg)   \n",
       " 1  Aceclofenac (100mg) + Paracetamol (325mg)   \n",
       " 2  Aceclofenac (100mg) + Paracetamol (325mg)   \n",
       " 3  Aceclofenac (100mg) + Paracetamol (325mg)   \n",
       " 4                 Doxorubicin (Plain) (50mg)   \n",
       " \n",
       "                                         Side_effects              Alcohol  \\\n",
       " 0  NauseaVomitingStomach pain/epigastric painLoss...              CAUTION   \n",
       " 1  NauseaVomitingStomach pain/epigastric painLoss...              CAUTION   \n",
       " 2  NauseaVomitingStomach pain/epigastric painLoss...              CAUTION   \n",
       " 3  NauseaVomitingStomach pain/epigastric painLoss...              CAUTION   \n",
       " 4  VomitingAllergic reactionNauseaMouth soreHair ...  CONSULT YOUR DOCTOR   \n",
       " \n",
       "    ...              Kidney    Liver  Poor Excellent Average  \\\n",
       " 0  ...                 NaN      NaN  100%       NaN     NaN   \n",
       " 1  ...                 NaN      NaN  100%       NaN     NaN   \n",
       " 2  ...                 NaN      NaN   58%       25%     17%   \n",
       " 3  ...                 NaN      NaN   58%       25%     17%   \n",
       " 4  ...  SAFE IF PRESCRIBED  CAUTION  100%       NaN     NaN   \n",
       " \n",
       "                                           How_to_use  \\\n",
       " 0  Aceloflam Plus Tablet is a combination of two ...   \n",
       " 1  Aceloflam Plus Tablet is a combination of two ...   \n",
       " 2  Aceloflam Plus Tablet is a combination of two ...   \n",
       " 3  Aceloflam Plus Tablet is a combination of two ...   \n",
       " 4  Adriamycin 50mg Injection is an anti-cancer me...   \n",
       " \n",
       "                                               Status            manufacturer  \\\n",
       " 0  ₹86.5Inclusive of all taxesMRP₹94  8% OFF15 ta...  Alkem Laboratories Ltd   \n",
       " 1  ₹86.5Inclusive of all taxesMRP₹94  8% OFF15 ta...  Alkem Laboratories Ltd   \n",
       " 2  ₹40.86₹63Get 35% OFF₹37.23+ free shipping and ...  Alkem Laboratories Ltd   \n",
       " 3  ₹40.86₹63Get 35% OFF₹37.23+ free shipping and ...  Alkem Laboratories Ltd   \n",
       " 4  ₹736.2₹889Get 17% OFF₹670.76+ free shipping an...              Pfizer Ltd   \n",
       " \n",
       "   Unit Quantity  Unit Type  \n",
       " 0           NaN     Tablet  \n",
       " 1           NaN     Tablet  \n",
       " 2           NaN     Tablet  \n",
       " 3           NaN     Tablet  \n",
       " 4          50.0  Injection  \n",
       " \n",
       " [5 rows x 23 columns],\n",
       " None,\n",
       "        web-scraper-order                              web-scraper-start-url  \\\n",
       " count              34284                                              34284   \n",
       " unique             32275                                               1195   \n",
       " top       1698654652-244  https://www.1mg.com/drugs-all-medicines?page=6...   \n",
       " freq                   4                                                 41   \n",
       " mean                 NaN                                                NaN   \n",
       " std                  NaN                                                NaN   \n",
       " min                  NaN                                                NaN   \n",
       " 25%                  NaN                                                NaN   \n",
       " 50%                  NaN                                                NaN   \n",
       " 75%                  NaN                                                NaN   \n",
       " max                  NaN                                                NaN   \n",
       " \n",
       "                                                     Links  \\\n",
       " count                                               34284   \n",
       " unique                                              32430   \n",
       " top     Basalog 100IU/ml InjectionMRP₹1782Prescription...   \n",
       " freq                                                    4   \n",
       " mean                                                  NaN   \n",
       " std                                                   NaN   \n",
       " min                                                   NaN   \n",
       " 25%                                                   NaN   \n",
       " 50%                                                   NaN   \n",
       " 75%                                                   NaN   \n",
       " max                                                   NaN   \n",
       " \n",
       "                                                Links-href            Name  \\\n",
       " count                                               34284           34284   \n",
       " unique                                              32431           31568   \n",
       " top     https://www.1mg.com/drugs/basalog-100iu-ml-inj...  Fourderm Cream   \n",
       " freq                                                    4              16   \n",
       " mean                                                  NaN             NaN   \n",
       " std                                                   NaN             NaN   \n",
       " min                                                   NaN             NaN   \n",
       " 25%                                                   NaN             NaN   \n",
       " 50%                                                   NaN             NaN   \n",
       " 75%                                                   NaN             NaN   \n",
       " max                                                   NaN             NaN   \n",
       " \n",
       "                                      Uses  Price  \\\n",
       " count                               34121  24903   \n",
       " unique                                956   5578   \n",
       " top     Treatment of Bacterial infections   ₹110   \n",
       " freq                                 2517    207   \n",
       " mean                                  NaN    NaN   \n",
       " std                                   NaN    NaN   \n",
       " min                                   NaN    NaN   \n",
       " 25%                                   NaN    NaN   \n",
       " 50%                                   NaN    NaN   \n",
       " 75%                                   NaN    NaN   \n",
       " max                                   NaN    NaN   \n",
       " \n",
       "                          Composition  \\\n",
       " count                          34284   \n",
       " unique                          6279   \n",
       " top     Ursodeoxycholic Acid (300mg)   \n",
       " freq                             338   \n",
       " mean                             NaN   \n",
       " std                              NaN   \n",
       " min                              NaN   \n",
       " 25%                              NaN   \n",
       " 50%                              NaN   \n",
       " 75%                              NaN   \n",
       " max                              NaN   \n",
       " \n",
       "                                              Side_effects Alcohol  ...  \\\n",
       " count                                               33649   29499  ...   \n",
       " unique                                               2269       5  ...   \n",
       " top     Application site reactions (burning, irritatio...  UNSAFE  ...   \n",
       " freq                                                 1027   15295  ...   \n",
       " mean                                                  NaN     NaN  ...   \n",
       " std                                                   NaN     NaN  ...   \n",
       " min                                                   NaN     NaN  ...   \n",
       " 25%                                                   NaN     NaN  ...   \n",
       " 50%                                                   NaN     NaN  ...   \n",
       " 75%                                                   NaN     NaN  ...   \n",
       " max                                                   NaN     NaN  ...   \n",
       " \n",
       "          Kidney    Liver   Poor Excellent Average  \\\n",
       " count     28004    28004  16451     13601   10121   \n",
       " unique        4        4     75        46      32   \n",
       " top     CAUTION  CAUTION   100%       33%     17%   \n",
       " freq      15157    15535   3382      4447    1191   \n",
       " mean        NaN      NaN    NaN       NaN     NaN   \n",
       " std         NaN      NaN    NaN       NaN     NaN   \n",
       " min         NaN      NaN    NaN       NaN     NaN   \n",
       " 25%         NaN      NaN    NaN       NaN     NaN   \n",
       " 50%         NaN      NaN    NaN       NaN     NaN   \n",
       " 75%         NaN      NaN    NaN       NaN     NaN   \n",
       " max         NaN      NaN    NaN       NaN     NaN   \n",
       " \n",
       "                                                How_to_use  \\\n",
       " count                                               34251   \n",
       " unique                                              30212   \n",
       " top     Glimepiride, metformin and voglibose. They wor...   \n",
       " freq                                                  152   \n",
       " mean                                                  NaN   \n",
       " std                                                   NaN   \n",
       " min                                                   NaN   \n",
       " 25%                                                   NaN   \n",
       " 50%                                                   NaN   \n",
       " 75%                                                   NaN   \n",
       " max                                                   NaN   \n",
       " \n",
       "                                                    Status  \\\n",
       " count                                               30755   \n",
       " unique                                              21070   \n",
       " top     ₹101Inclusive of all taxesMRP₹110  8% OFF10 ta...   \n",
       " freq                                                   60   \n",
       " mean                                                  NaN   \n",
       " std                                                   NaN   \n",
       " min                                                   NaN   \n",
       " 25%                                                   NaN   \n",
       " 50%                                                   NaN   \n",
       " 75%                                                   NaN   \n",
       " max                                                   NaN   \n",
       " \n",
       "                              manufacturer Unit Quantity Unit Type  \n",
       " count                               34284  2.098400e+04     32254  \n",
       " unique                               3685           NaN        15  \n",
       " top     Sun Pharmaceutical Industries Ltd           NaN    Tablet  \n",
       " freq                                 1374           NaN     19969  \n",
       " mean                                  NaN  9.643969e+02       NaN  \n",
       " std                                   NaN  3.901026e+04       NaN  \n",
       " min                                   NaN  0.000000e+00       NaN  \n",
       " 25%                                   NaN  1.000000e+01       NaN  \n",
       " 50%                                   NaN  5.000000e+01       NaN  \n",
       " 75%                                   NaN  2.000000e+02       NaN  \n",
       " max                                   NaN  3.600000e+06       NaN  \n",
       " \n",
       " [11 rows x 23 columns])"
      ]
     },
     "execution_count": 13,
     "metadata": {},
     "output_type": "execute_result"
    }
   ],
   "source": [
    "import pandas as pd\n",
    "dataset_df = pd.read_csv('dataset.csv')\n",
    "drug1_df = pd.read_csv('drug1 2.csv')\n",
    "\n",
    "# Display the first few rows of the dataframe and its summary\n",
    "dataset_df.head(), dataset_df.info(), dataset_df.describe(include='all')\n"
   ]
  },
  {
   "cell_type": "code",
   "execution_count": 14,
   "id": "6e3bf929",
   "metadata": {},
   "outputs": [
    {
     "data": {
      "text/html": [
       "<div>\n",
       "<style scoped>\n",
       "    .dataframe tbody tr th:only-of-type {\n",
       "        vertical-align: middle;\n",
       "    }\n",
       "\n",
       "    .dataframe tbody tr th {\n",
       "        vertical-align: top;\n",
       "    }\n",
       "\n",
       "    .dataframe thead th {\n",
       "        text-align: right;\n",
       "    }\n",
       "</style>\n",
       "<table border=\"1\" class=\"dataframe\">\n",
       "  <thead>\n",
       "    <tr style=\"text-align: right;\">\n",
       "      <th></th>\n",
       "      <th>Composition</th>\n",
       "      <th>cleaned_composition</th>\n",
       "    </tr>\n",
       "  </thead>\n",
       "  <tbody>\n",
       "    <tr>\n",
       "      <th>0</th>\n",
       "      <td>Aceclofenac (100mg) + Paracetamol (325mg)</td>\n",
       "      <td>[aceclofenac, paracetamol]</td>\n",
       "    </tr>\n",
       "    <tr>\n",
       "      <th>1</th>\n",
       "      <td>Aceclofenac (100mg) + Paracetamol (325mg)</td>\n",
       "      <td>[aceclofenac, paracetamol]</td>\n",
       "    </tr>\n",
       "    <tr>\n",
       "      <th>2</th>\n",
       "      <td>Aceclofenac (100mg) + Paracetamol (325mg)</td>\n",
       "      <td>[aceclofenac, paracetamol]</td>\n",
       "    </tr>\n",
       "    <tr>\n",
       "      <th>3</th>\n",
       "      <td>Aceclofenac (100mg) + Paracetamol (325mg)</td>\n",
       "      <td>[aceclofenac, paracetamol]</td>\n",
       "    </tr>\n",
       "    <tr>\n",
       "      <th>4</th>\n",
       "      <td>Doxorubicin (Plain) (50mg)</td>\n",
       "      <td>[doxorubicin]</td>\n",
       "    </tr>\n",
       "  </tbody>\n",
       "</table>\n",
       "</div>"
      ],
      "text/plain": [
       "                                 Composition         cleaned_composition\n",
       "0  Aceclofenac (100mg) + Paracetamol (325mg)  [aceclofenac, paracetamol]\n",
       "1  Aceclofenac (100mg) + Paracetamol (325mg)  [aceclofenac, paracetamol]\n",
       "2  Aceclofenac (100mg) + Paracetamol (325mg)  [aceclofenac, paracetamol]\n",
       "3  Aceclofenac (100mg) + Paracetamol (325mg)  [aceclofenac, paracetamol]\n",
       "4                 Doxorubicin (Plain) (50mg)               [doxorubicin]"
      ]
     },
     "execution_count": 14,
     "metadata": {},
     "output_type": "execute_result"
    }
   ],
   "source": [
    "import re\n",
    "import string\n",
    "\n",
    "# Redefine the function with all necessary imports and variable definitions inside\n",
    "def extract_drug_names_v2(composition):\n",
    "    # Define punctuation while keeping hyphens\n",
    "    punctuation = string.punctuation.replace(\"-\", \"\")\n",
    "    # Remove dosages and split by '+' for combination drugs\n",
    "    drugs = re.sub(r'\\([^)]*\\)', '', composition)\n",
    "    drugs = drugs.split('+')\n",
    "    # Clean up each drug name\n",
    "    cleaned_drugs = [drug.strip().lower().translate(str.maketrans('', '', punctuation)) for drug in drugs]\n",
    "    return cleaned_drugs\n",
    "\n",
    "# Apply the updated function to the Composition column\n",
    "dataset_df['cleaned_composition'] = dataset_df['Composition'].apply(extract_drug_names_v2)\n",
    "\n",
    "# Display the first few entries to verify the changes\n",
    "dataset_df[['Composition', 'cleaned_composition']].head()\n"
   ]
  },
  {
   "cell_type": "code",
   "execution_count": 15,
   "id": "a6c77633",
   "metadata": {},
   "outputs": [
    {
     "data": {
      "text/plain": [
       "(0    Mirtazapine\n",
       " 1     Mesalamine\n",
       " 2        Bactrim\n",
       " 3       Contrave\n",
       " 4         LEVORA\n",
       " Name: drug, dtype: object,\n",
       " array(['Mirtazapine', 'Mesalamine', 'Bactrim', 'Contrave', 'LEVORA',\n",
       "        'Miconazole', 'Nuvigil', 'Ciprofloxacin', 'Trazodone',\n",
       "        'Aripiprazole'], dtype=object))"
      ]
     },
     "execution_count": 15,
     "metadata": {},
     "output_type": "execute_result"
    }
   ],
   "source": [
    "# Display the first few standardized drug names from \"drug1 2.csv\" for inspection\n",
    "drug1_df['drug'].head(), drug1_df['drug'].unique()[:10]\n"
   ]
  },
  {
   "cell_type": "code",
   "execution_count": 16,
   "id": "d45f7366",
   "metadata": {},
   "outputs": [
    {
     "data": {
      "text/plain": [
       "Side_effects    635\n",
       "How_to_use       33\n",
       "dtype: int64"
      ]
     },
     "execution_count": 16,
     "metadata": {},
     "output_type": "execute_result"
    }
   ],
   "source": [
    "# Checking missing values for 'Side_effects' and 'How_to_use' in \"dataset.csv\"\n",
    "missing_values = dataset_df[['Side_effects', 'How_to_use']].isnull().sum()\n",
    "missing_values\n"
   ]
  },
  {
   "cell_type": "code",
   "execution_count": 17,
   "id": "dbc424c5",
   "metadata": {},
   "outputs": [
    {
     "data": {
      "text/plain": [
       "['trifarotene',\n",
       " 'solifenacin',\n",
       " 'netilmicin',\n",
       " 'lovastatin',\n",
       " 'hyoscine butylbromide',\n",
       " 'l-alanyl-l-glutamine',\n",
       " 'ciprofloxacin',\n",
       " 'glycerol',\n",
       " 'teicoplanin',\n",
       " 's-adenosyl l-methoinine disulfate tosylate']"
      ]
     },
     "execution_count": 17,
     "metadata": {},
     "output_type": "execute_result"
    }
   ],
   "source": [
    "# Flatten the list of drugs in \"dataset.csv\" for easier comparison and create a set for unique entries\n",
    "from itertools import chain\n",
    "\n",
    "\n",
    "\n",
    "\n",
    "dataset_df['cleaned_composition'] = dataset_df['Composition'].apply(extract_drug_names_v2)\n",
    "\n",
    "# Flatten the list of drugs for easier comparison and create a set for unique entries\n",
    "flattened_drug_list = set(chain.from_iterable(dataset_df['cleaned_composition']))\n",
    "\n",
    "# Display a sample of unique drug names from \"dataset.csv\"\n",
    "list(flattened_drug_list)[:10]"
   ]
  },
  {
   "cell_type": "code",
   "execution_count": 18,
   "id": "5a5f6e41",
   "metadata": {},
   "outputs": [
    {
     "name": "stdout",
     "output_type": "stream",
     "text": [
      "Requirement already satisfied: fuzzywuzzy in /Users/iramkamdar/opt/anaconda3/envs/Gnowitt/lib/python3.8/site-packages (0.18.0)\n",
      "\n",
      "\u001b[1m[\u001b[0m\u001b[34;49mnotice\u001b[0m\u001b[1;39;49m]\u001b[0m\u001b[39;49m A new release of pip is available: \u001b[0m\u001b[31;49m24.1\u001b[0m\u001b[39;49m -> \u001b[0m\u001b[32;49m24.2\u001b[0m\n",
      "\u001b[1m[\u001b[0m\u001b[34;49mnotice\u001b[0m\u001b[1;39;49m]\u001b[0m\u001b[39;49m To update, run: \u001b[0m\u001b[32;49mpip install --upgrade pip\u001b[0m\n"
     ]
    },
    {
     "data": {
      "text/plain": [
       "{'Mirtazapine': 'mirtazapine',\n",
       " 'Mesalamine': 'mesalazine',\n",
       " 'Miconazole': 'miconazole',\n",
       " 'Ciprofloxacin': 'ciprofloxacin',\n",
       " 'Trazodone': 'trazodone',\n",
       " 'Aripiprazole': 'aripiprazole',\n",
       " 'Oxybutynin': 'oxybutynin',\n",
       " 'Clonazepam': 'clonazepam',\n",
       " 'Sodium oxybate': 'sodium tauroglycocholate',\n",
       " 'Lamotrigine': 'lamotrigine',\n",
       " 'Blisovi Fe 1 / 20': 'poliomyelitis virus type 1',\n",
       " 'Ivermectin': 'ivermectin',\n",
       " 'Actos': 'placenta extracts',\n",
       " 'Duloxetine': 'duloxetine',\n",
       " 'Escitalopram': 'citalopram',\n",
       " 'Gabapentin': 'gabapentin',\n",
       " 'Levonorgestrel': 'levonorgestrel',\n",
       " 'Ethinyl estradiol / etonogestrel': 'estradiol',\n",
       " 'Etonogestrel': 'levonorgestrel',\n",
       " 'Nitrofurantoin': 'nitrofurantoin',\n",
       " 'Ethinyl estradiol / norgestimate': 'estradiol',\n",
       " 'Guaifenesin / pseudoephedrine': 'ephedrine',\n",
       " 'Phentermine / topiramate': 'topiramate'}"
      ]
     },
     "execution_count": 18,
     "metadata": {},
     "output_type": "execute_result"
    }
   ],
   "source": [
    "# Install fuzzywuzzy library\n",
    "!pip install fuzzywuzzy\n",
    "\n",
    "# Import the necessary part of the library\n",
    "from fuzzywuzzy import process\n",
    "\n",
    "# Function to perform fuzzy matching\n",
    "def fuzzy_match_drugs(drug_list, query_list, threshold=80):\n",
    "    matches = {}\n",
    "    for drug in drug_list:\n",
    "        # Get the best match above the threshold\n",
    "        match, score = process.extractOne(drug, query_list)\n",
    "        if score >= threshold:\n",
    "            matches[drug] = match\n",
    "    return matches\n",
    "\n",
    "# Drug lists for matching\n",
    "drug_list_drug1 = list(drug1_df['drug'].unique())\n",
    "unique_drugs_dataset = list(flattened_drug_list)\n",
    "\n",
    "# Perform fuzzy matching\n",
    "fuzzy_matches = fuzzy_match_drugs(drug_list_drug1, unique_drugs_dataset, threshold=80)\n",
    "\n",
    "# Display the fuzzy matched drugs\n",
    "fuzzy_matches\n"
   ]
  },
  {
   "cell_type": "code",
   "execution_count": 19,
   "id": "d9b57dfa",
   "metadata": {},
   "outputs": [
    {
     "data": {
      "text/html": [
       "<div>\n",
       "<style scoped>\n",
       "    .dataframe tbody tr th:only-of-type {\n",
       "        vertical-align: middle;\n",
       "    }\n",
       "\n",
       "    .dataframe tbody tr th {\n",
       "        vertical-align: top;\n",
       "    }\n",
       "\n",
       "    .dataframe thead th {\n",
       "        text-align: right;\n",
       "    }\n",
       "</style>\n",
       "<table border=\"1\" class=\"dataframe\">\n",
       "  <thead>\n",
       "    <tr style=\"text-align: right;\">\n",
       "      <th></th>\n",
       "      <th>drug</th>\n",
       "      <th>condition</th>\n",
       "      <th>Sideeffects</th>\n",
       "      <th>rating</th>\n",
       "      <th>usefulCount</th>\n",
       "      <th>Composition</th>\n",
       "      <th>Side_effects</th>\n",
       "    </tr>\n",
       "  </thead>\n",
       "  <tbody>\n",
       "    <tr>\n",
       "      <th>0</th>\n",
       "      <td>Mirtazapine</td>\n",
       "      <td>Depression</td>\n",
       "      <td>dizziness</td>\n",
       "      <td>10</td>\n",
       "      <td>22</td>\n",
       "      <td>Mirtazapine (15mg)</td>\n",
       "      <td>SleepinessDryness in mouthIncreased appetiteHe...</td>\n",
       "    </tr>\n",
       "    <tr>\n",
       "      <th>1</th>\n",
       "      <td>Mirtazapine</td>\n",
       "      <td>Depression</td>\n",
       "      <td>dizziness</td>\n",
       "      <td>10</td>\n",
       "      <td>22</td>\n",
       "      <td>Mirtazapine (7.5mg)</td>\n",
       "      <td>SleepinessDryness in mouthIncreased appetiteHe...</td>\n",
       "    </tr>\n",
       "    <tr>\n",
       "      <th>2</th>\n",
       "      <td>Mirtazapine</td>\n",
       "      <td>Depression</td>\n",
       "      <td>dizziness</td>\n",
       "      <td>10</td>\n",
       "      <td>22</td>\n",
       "      <td>Mirtazapine (15mg)</td>\n",
       "      <td>SleepinessDryness in mouthIncreased appetiteHe...</td>\n",
       "    </tr>\n",
       "    <tr>\n",
       "      <th>3</th>\n",
       "      <td>Mirtazapine</td>\n",
       "      <td>Depression</td>\n",
       "      <td>dizziness</td>\n",
       "      <td>10</td>\n",
       "      <td>22</td>\n",
       "      <td>Mirtazapine (30mg)</td>\n",
       "      <td>SleepinessDryness in mouthIncreased appetiteHe...</td>\n",
       "    </tr>\n",
       "    <tr>\n",
       "      <th>4</th>\n",
       "      <td>Mirtazapine</td>\n",
       "      <td>Depression</td>\n",
       "      <td>dizziness</td>\n",
       "      <td>10</td>\n",
       "      <td>22</td>\n",
       "      <td>Mirtazapine (7.5mg)</td>\n",
       "      <td>SleepinessDryness in mouthIncreased appetiteHe...</td>\n",
       "    </tr>\n",
       "  </tbody>\n",
       "</table>\n",
       "</div>"
      ],
      "text/plain": [
       "          drug   condition Sideeffects  rating  usefulCount  \\\n",
       "0  Mirtazapine  Depression   dizziness      10           22   \n",
       "1  Mirtazapine  Depression   dizziness      10           22   \n",
       "2  Mirtazapine  Depression   dizziness      10           22   \n",
       "3  Mirtazapine  Depression   dizziness      10           22   \n",
       "4  Mirtazapine  Depression   dizziness      10           22   \n",
       "\n",
       "           Composition                                       Side_effects  \n",
       "0   Mirtazapine (15mg)  SleepinessDryness in mouthIncreased appetiteHe...  \n",
       "1  Mirtazapine (7.5mg)  SleepinessDryness in mouthIncreased appetiteHe...  \n",
       "2   Mirtazapine (15mg)  SleepinessDryness in mouthIncreased appetiteHe...  \n",
       "3   Mirtazapine (30mg)  SleepinessDryness in mouthIncreased appetiteHe...  \n",
       "4  Mirtazapine (7.5mg)  SleepinessDryness in mouthIncreased appetiteHe...  "
      ]
     },
     "execution_count": 19,
     "metadata": {},
     "output_type": "execute_result"
    }
   ],
   "source": [
    "# Convert the fuzzy_matches dictionary to a DataFrame for easier merging\n",
    "matched_drugs_df = pd.DataFrame(list(fuzzy_matches.items()), columns=['drug1_name', 'dataset_drug_name'])\n",
    "\n",
    "# Merge \"drug1 2.csv\" with the matched names\n",
    "merged_df = drug1_df.merge(matched_drugs_df, left_on='drug', right_on='drug1_name')\n",
    "\n",
    "# Merge with \"dataset.csv\" based on the cleaned drug names in the 'cleaned_composition' column, which is a list of names\n",
    "# This step requires expanding the list to rows, merging, and then collapsing back if necessary\n",
    "dataset_df_expanded = dataset_df.explode('cleaned_composition')\n",
    "merged_final_df = merged_df.merge(dataset_df_expanded, left_on='dataset_drug_name', right_on='cleaned_composition')\n",
    "\n",
    "# Display the first few rows of the merged dataset to inspect\n",
    "merged_final_df[['drug', 'condition', 'Sideeffects', 'rating', 'usefulCount', 'Composition', 'Side_effects']].head()\n"
   ]
  },
  {
   "cell_type": "code",
   "execution_count": 20,
   "id": "bc522eda",
   "metadata": {},
   "outputs": [
    {
     "data": {
      "text/html": [
       "<div>\n",
       "<style scoped>\n",
       "    .dataframe tbody tr th:only-of-type {\n",
       "        vertical-align: middle;\n",
       "    }\n",
       "\n",
       "    .dataframe tbody tr th {\n",
       "        vertical-align: top;\n",
       "    }\n",
       "\n",
       "    .dataframe thead th {\n",
       "        text-align: right;\n",
       "    }\n",
       "</style>\n",
       "<table border=\"1\" class=\"dataframe\">\n",
       "  <thead>\n",
       "    <tr style=\"text-align: right;\">\n",
       "      <th></th>\n",
       "      <th>drug</th>\n",
       "      <th>condition</th>\n",
       "      <th>Sideeffects</th>\n",
       "      <th>rating</th>\n",
       "      <th>usefulCount</th>\n",
       "      <th>bp</th>\n",
       "      <th>sugar</th>\n",
       "      <th>bp_abnormal</th>\n",
       "      <th>bp_normal</th>\n",
       "      <th>sugar_abnormal</th>\n",
       "      <th>sugar_normal</th>\n",
       "    </tr>\n",
       "  </thead>\n",
       "  <tbody>\n",
       "    <tr>\n",
       "      <th>0</th>\n",
       "      <td>Mirtazapine</td>\n",
       "      <td>Depression</td>\n",
       "      <td>dizziness</td>\n",
       "      <td>10</td>\n",
       "      <td>22</td>\n",
       "      <td>normal</td>\n",
       "      <td>normal</td>\n",
       "      <td>False</td>\n",
       "      <td>True</td>\n",
       "      <td>False</td>\n",
       "      <td>True</td>\n",
       "    </tr>\n",
       "    <tr>\n",
       "      <th>1</th>\n",
       "      <td>Mirtazapine</td>\n",
       "      <td>Depression</td>\n",
       "      <td>dizziness</td>\n",
       "      <td>10</td>\n",
       "      <td>22</td>\n",
       "      <td>normal</td>\n",
       "      <td>normal</td>\n",
       "      <td>False</td>\n",
       "      <td>True</td>\n",
       "      <td>False</td>\n",
       "      <td>True</td>\n",
       "    </tr>\n",
       "    <tr>\n",
       "      <th>2</th>\n",
       "      <td>Mirtazapine</td>\n",
       "      <td>Depression</td>\n",
       "      <td>dizziness</td>\n",
       "      <td>10</td>\n",
       "      <td>22</td>\n",
       "      <td>normal</td>\n",
       "      <td>normal</td>\n",
       "      <td>False</td>\n",
       "      <td>True</td>\n",
       "      <td>False</td>\n",
       "      <td>True</td>\n",
       "    </tr>\n",
       "    <tr>\n",
       "      <th>3</th>\n",
       "      <td>Mirtazapine</td>\n",
       "      <td>Depression</td>\n",
       "      <td>dizziness</td>\n",
       "      <td>10</td>\n",
       "      <td>22</td>\n",
       "      <td>normal</td>\n",
       "      <td>normal</td>\n",
       "      <td>False</td>\n",
       "      <td>True</td>\n",
       "      <td>False</td>\n",
       "      <td>True</td>\n",
       "    </tr>\n",
       "    <tr>\n",
       "      <th>4</th>\n",
       "      <td>Mirtazapine</td>\n",
       "      <td>Depression</td>\n",
       "      <td>dizziness</td>\n",
       "      <td>10</td>\n",
       "      <td>22</td>\n",
       "      <td>normal</td>\n",
       "      <td>normal</td>\n",
       "      <td>False</td>\n",
       "      <td>True</td>\n",
       "      <td>False</td>\n",
       "      <td>True</td>\n",
       "    </tr>\n",
       "  </tbody>\n",
       "</table>\n",
       "</div>"
      ],
      "text/plain": [
       "          drug   condition Sideeffects  rating  usefulCount      bp   sugar  \\\n",
       "0  Mirtazapine  Depression   dizziness      10           22  normal  normal   \n",
       "1  Mirtazapine  Depression   dizziness      10           22  normal  normal   \n",
       "2  Mirtazapine  Depression   dizziness      10           22  normal  normal   \n",
       "3  Mirtazapine  Depression   dizziness      10           22  normal  normal   \n",
       "4  Mirtazapine  Depression   dizziness      10           22  normal  normal   \n",
       "\n",
       "   bp_abnormal  bp_normal  sugar_abnormal  sugar_normal  \n",
       "0        False       True           False          True  \n",
       "1        False       True           False          True  \n",
       "2        False       True           False          True  \n",
       "3        False       True           False          True  \n",
       "4        False       True           False          True  "
      ]
     },
     "execution_count": 20,
     "metadata": {},
     "output_type": "execute_result"
    }
   ],
   "source": [
    "\n",
    "bp_dummies = pd.get_dummies(merged_final_df['bp'], prefix='bp')\n",
    "sugar_dummies = pd.get_dummies(merged_final_df['sugar'], prefix='sugar')\n",
    "\n",
    "merged_final_df = pd.concat([merged_final_df, bp_dummies, sugar_dummies], axis=1)\n",
    "\n",
    "\n",
    "merged_final_df[['drug', 'condition', 'Sideeffects', 'rating', 'usefulCount', 'bp', 'sugar', 'bp_abnormal', 'bp_normal', 'sugar_abnormal', 'sugar_normal']].head()\n"
   ]
  },
  {
   "cell_type": "code",
   "execution_count": 21,
   "id": "e93d4328",
   "metadata": {},
   "outputs": [
    {
     "data": {
      "text/plain": [
       "[('headache', 7834),\n",
       " ('dizziness', 5411),\n",
       " ('vomting', 4224),\n",
       " ('delayed ejaculationconfusionvomitingmemory impairmentdrowsinesstirednessanorgasmia (decreased orgasm)low sexual desirenauseadiarrheauncoordinated body movements',\n",
       "  3358),\n",
       " ('weight gain', 2548),\n",
       " ('depressiondizzinessdrowsinessfatigueimpaired coordinationmemory impairment',\n",
       "  2162),\n",
       " ('heatburn', 1173),\n",
       " ('irritation', 1010),\n",
       " ('itching', 1010),\n",
       " ('nauseavomitingdiarrhea', 1005)]"
      ]
     },
     "execution_count": 21,
     "metadata": {},
     "output_type": "execute_result"
    }
   ],
   "source": [
    "from collections import Counter\n",
    "def count_side_effects_improved(side_effects_column):\n",
    "    side_effects_counter = Counter()\n",
    "    for entry in side_effects_column:\n",
    "        if isinstance(entry, str):  # Check if the entry is a string\n",
    "            # Normalize and split the side effects text\n",
    "            effects = entry.lower().replace(\" and \", \",\").split(',')\n",
    "            side_effects_counter.update([effect.strip() for effect in effects])\n",
    "    return side_effects_counter\n",
    "\n",
    "# Reapply the function to both side effects columns with the improved error handling\n",
    "side_effects_counts_1 = count_side_effects_improved(merged_final_df['Sideeffects'])\n",
    "side_effects_counts_2 = count_side_effects_improved(merged_final_df['Side_effects'])\n",
    "\n",
    "# Combine the counts from both datasets\n",
    "combined_side_effects_counts = side_effects_counts_1 + side_effects_counts_2\n",
    "\n",
    "# Display the most common side effects\n",
    "combined_side_effects_counts.most_common(10)\n"
   ]
  },
  {
   "cell_type": "code",
   "execution_count": 22,
   "id": "09599ceb",
   "metadata": {},
   "outputs": [
    {
     "data": {
      "text/plain": [
       "(   age  temperature  bp_abnormal  bp_normal  sugar_abnormal  sugar_normal\n",
       " 0   30           97        False       True           False          True\n",
       " 1   30           97        False       True           False          True\n",
       " 2   30           97        False       True           False          True\n",
       " 3   30           97        False       True           False          True\n",
       " 4   30           97        False       True           False          True,\n",
       " 0    1\n",
       " 1    1\n",
       " 2    1\n",
       " 3    1\n",
       " 4    1\n",
       " Name: has_headache, dtype: int64)"
      ]
     },
     "execution_count": 22,
     "metadata": {},
     "output_type": "execute_result"
    }
   ],
   "source": [
    "merged_final_df['has_headache'] = merged_final_df['Sideeffects'].str.lower().str.contains('headache') | \\\n",
    "                                  merged_final_df['Side_effects'].str.lower().str.contains('headache')\n",
    "\n",
    "merged_final_df['has_headache'] = merged_final_df['has_headache'].astype(int)\n",
    "\n",
    "features = merged_final_df[['age', 'temperature', 'bp_abnormal', 'bp_normal', 'sugar_abnormal', 'sugar_normal']]\n",
    "target = merged_final_df['has_headache']\n",
    "\n",
    "features.head(), target.head()\n"
   ]
  },
  {
   "cell_type": "code",
   "execution_count": 26,
   "id": "95ed504c",
   "metadata": {},
   "outputs": [
    {
     "name": "stdout",
     "output_type": "stream",
     "text": [
      "Collecting textblob\n",
      "  Downloading textblob-0.18.0.post0-py3-none-any.whl.metadata (4.5 kB)\n",
      "Requirement already satisfied: nltk>=3.8 in /Users/iramkamdar/opt/anaconda3/envs/Gnowitt/lib/python3.8/site-packages (from textblob) (3.8.1)\n",
      "Requirement already satisfied: click in /Users/iramkamdar/opt/anaconda3/envs/Gnowitt/lib/python3.8/site-packages (from nltk>=3.8->textblob) (8.1.6)\n",
      "Requirement already satisfied: joblib in /Users/iramkamdar/opt/anaconda3/envs/Gnowitt/lib/python3.8/site-packages (from nltk>=3.8->textblob) (1.2.0)\n",
      "Requirement already satisfied: regex>=2021.8.3 in /Users/iramkamdar/opt/anaconda3/envs/Gnowitt/lib/python3.8/site-packages (from nltk>=3.8->textblob) (2023.8.8)\n",
      "Requirement already satisfied: tqdm in /Users/iramkamdar/opt/anaconda3/envs/Gnowitt/lib/python3.8/site-packages (from nltk>=3.8->textblob) (4.64.1)\n",
      "Downloading textblob-0.18.0.post0-py3-none-any.whl (626 kB)\n",
      "\u001b[2K   \u001b[90m━━━━━━━━━━━━━━━━━━━━━━━━━━━━━━━━━━━━━━━━\u001b[0m \u001b[32m626.3/626.3 kB\u001b[0m \u001b[31m1.0 MB/s\u001b[0m eta \u001b[36m0:00:00\u001b[0ma \u001b[36m0:00:01\u001b[0mm\n",
      "\u001b[?25hInstalling collected packages: textblob\n",
      "Successfully installed textblob-0.18.0.post0\n",
      "\n",
      "\u001b[1m[\u001b[0m\u001b[34;49mnotice\u001b[0m\u001b[1;39;49m]\u001b[0m\u001b[39;49m A new release of pip is available: \u001b[0m\u001b[31;49m24.1\u001b[0m\u001b[39;49m -> \u001b[0m\u001b[32;49m24.2\u001b[0m\n",
      "\u001b[1m[\u001b[0m\u001b[34;49mnotice\u001b[0m\u001b[1;39;49m]\u001b[0m\u001b[39;49m To update, run: \u001b[0m\u001b[32;49mpip install --upgrade pip\u001b[0m\n"
     ]
    }
   ],
   "source": [
    "!pip install textblob"
   ]
  },
  {
   "cell_type": "code",
   "execution_count": 27,
   "id": "ebc91d45",
   "metadata": {},
   "outputs": [],
   "source": [
    "from textblob import TextBlob"
   ]
  },
  {
   "cell_type": "code",
   "execution_count": 28,
   "id": "b53330ae",
   "metadata": {},
   "outputs": [
    {
     "name": "stdout",
     "output_type": "stream",
     "text": [
      "Random Forest Evaluation:\n",
      "               precision    recall  f1-score   support\n",
      "\n",
      "           1       1.00      1.00      1.00        18\n",
      "           2       1.00      1.00      1.00         2\n",
      "           3       1.00      1.00      1.00         1\n",
      "           4       0.00      0.00      0.00         4\n",
      "           5       1.00      1.00      1.00         6\n",
      "           6       1.00      1.00      1.00         5\n",
      "           7       1.00      1.00      1.00         2\n",
      "           8       1.00      1.00      1.00        11\n",
      "           9       0.88      1.00      0.94        29\n",
      "          10       1.00      1.00      1.00        42\n",
      "\n",
      "    accuracy                           0.97       120\n",
      "   macro avg       0.89      0.90      0.89       120\n",
      "weighted avg       0.94      0.97      0.95       120\n",
      "\n"
     ]
    },
    {
     "name": "stderr",
     "output_type": "stream",
     "text": [
      "/Users/iramkamdar/opt/anaconda3/envs/Gnowitt/lib/python3.8/site-packages/sklearn/metrics/_classification.py:1469: UndefinedMetricWarning: Precision and F-score are ill-defined and being set to 0.0 in labels with no predicted samples. Use `zero_division` parameter to control this behavior.\n",
      "  _warn_prf(average, modifier, msg_start, len(result))\n",
      "/Users/iramkamdar/opt/anaconda3/envs/Gnowitt/lib/python3.8/site-packages/sklearn/metrics/_classification.py:1469: UndefinedMetricWarning: Precision and F-score are ill-defined and being set to 0.0 in labels with no predicted samples. Use `zero_division` parameter to control this behavior.\n",
      "  _warn_prf(average, modifier, msg_start, len(result))\n",
      "/Users/iramkamdar/opt/anaconda3/envs/Gnowitt/lib/python3.8/site-packages/sklearn/metrics/_classification.py:1469: UndefinedMetricWarning: Precision and F-score are ill-defined and being set to 0.0 in labels with no predicted samples. Use `zero_division` parameter to control this behavior.\n",
      "  _warn_prf(average, modifier, msg_start, len(result))\n"
     ]
    }
   ],
   "source": [
    "# Perform sentiment analysis using TextBlob\n",
    "drug1_df['sentiment'] = drug1_df['review'].apply(lambda x: TextBlob(str(x)).sentiment.polarity)\n",
    "\n",
    "# Prepare the data for modeling\n",
    "features = ['dosage', 'age', 'bp', 'sugar', 'temperature', 'sentiment']\n",
    "X = pd.get_dummies(drug1_df[features], drop_first=True)\n",
    "y = drug1_df['rating']\n",
    "\n",
    "# Split the data into training and testing sets\n",
    "X_train, X_test, y_train, y_test = train_test_split(X, y, test_size=0.3, random_state=42)\n",
    "\n",
    "from sklearn.ensemble import RandomForestClassifier\n",
    "from sklearn.model_selection import GridSearchCV, train_test_split\n",
    "from sklearn.metrics import classification_report\n",
    "\n",
    "# Assuming you have your data prepared in X_train, X_test, y_train, y_test\n",
    "rf_model = RandomForestClassifier(random_state=42)\n",
    "param_grid_rf = {\n",
    "    'n_estimators': [100],\n",
    "    'max_depth': [10, 20],\n",
    "    'min_samples_split': [10],\n",
    "    'min_samples_leaf': [5]\n",
    "}\n",
    "grid_search_rf = GridSearchCV(rf_model, param_grid_rf, cv=3, scoring='accuracy')\n",
    "grid_search_rf.fit(X_train, y_train)\n",
    "best_rf_model = RandomForestClassifier(**grid_search_rf.best_params_)\n",
    "best_rf_model.fit(X_train, y_train)\n",
    "\n",
    "# Predictions and Evaluations\n",
    "y_pred_rf = best_rf_model.predict(X_test)\n",
    "\n",
    "evaluation_rf = classification_report(y_test, y_pred_rf)\n",
    "\n",
    "\n",
    "print(\"Random Forest Evaluation:\\n\", evaluation_rf)\n",
    "\n",
    "\n",
    "\n",
    "\n",
    "\n"
   ]
  },
  {
   "cell_type": "code",
   "execution_count": 30,
   "id": "bcbb8efa",
   "metadata": {},
   "outputs": [
    {
     "data": {
      "text/plain": [
       "(array([ 1,  2,  3,  4,  5,  6,  7,  8,  9, 10]),\n",
       " array([ 1,  2,  3,  5,  6,  7,  8,  9, 10]))"
      ]
     },
     "execution_count": 30,
     "metadata": {},
     "output_type": "execute_result"
    }
   ],
   "source": [
    "import numpy as np\n",
    "unique_y_test = np.unique(y_test)\n",
    "\n",
    "unique_y_pred_rf = np.unique(y_pred_rf)\n",
    "\n",
    "unique_y_test, unique_y_pred_rf\n"
   ]
  },
  {
   "cell_type": "code",
   "execution_count": 33,
   "id": "b5332953",
   "metadata": {},
   "outputs": [
    {
     "name": "stdout",
     "output_type": "stream",
     "text": [
      "Metrics for Random Forest: {'Accuracy': 0.9666666666666667, 'Precision': 0.8878787878787879, 'Recall': 0.9, 'F1 Score': 0.8935483870967742, 'ROC AUC Score': 1.0}\n"
     ]
    },
    {
     "name": "stderr",
     "output_type": "stream",
     "text": [
      "/Users/iramkamdar/opt/anaconda3/envs/Gnowitt/lib/python3.8/site-packages/sklearn/metrics/_classification.py:1469: UndefinedMetricWarning: Precision is ill-defined and being set to 0.0 in labels with no predicted samples. Use `zero_division` parameter to control this behavior.\n",
      "  _warn_prf(average, modifier, msg_start, len(result))\n"
     ]
    }
   ],
   "source": [
    "from sklearn.metrics import accuracy_score, precision_score, recall_score, f1_score, roc_auc_score\n",
    "\n",
    "# Assuming y_test is the true labels and y_pred_proba_rf contains the predicted probabilities\n",
    "y_pred_proba_rf = best_rf_model.predict_proba(X_test)  # Get the predicted probabilities\n",
    "\n",
    "metrics = {\n",
    "    \"Random Forest\": {\n",
    "        \"Accuracy\": accuracy_score(y_test, y_pred_rf),\n",
    "        \"Precision\": precision_score(y_test, y_pred_rf, average='macro'),\n",
    "        \"Recall\": recall_score(y_test, y_pred_rf, average='macro'),\n",
    "        \"F1 Score\": f1_score(y_test, y_pred_rf, average='macro'),\n",
    "        \"ROC AUC Score\": roc_auc_score(y_test, y_pred_proba_rf, multi_class='ovo', average='macro')\n",
    "    }\n",
    "}\n",
    "\n",
    "print(\"Metrics for Random Forest:\", metrics[\"Random Forest\"])\n"
   ]
  },
  {
   "cell_type": "code",
   "execution_count": 35,
   "id": "ac96e408",
   "metadata": {},
   "outputs": [
    {
     "data": {
      "image/png": "[encoded data removed]",
      "text/plain": [
       "<Figure size 1000x600 with 1 Axes>"
      ]
     },
     "metadata": {},
     "output_type": "display_data"
    }
   ],
   "source": [
    "import matplotlib.pyplot as plt\n",
    "import pandas as pd\n",
    "\n",
    "# Extract feature importances from the Random Forest model\n",
    "feature_importances_rf = best_rf_model.feature_importances_\n",
    "\n",
    "# Create a DataFrame to visualize the feature importances\n",
    "features_df = pd.DataFrame({\n",
    "    'Feature': features,  # Use 'features' directly since it's a list\n",
    "    'Importance': feature_importances_rf\n",
    "}).sort_values(by='Importance', ascending=False)\n",
    "\n",
    "# Plotting feature importances\n",
    "plt.figure(figsize=(10, 6))\n",
    "plt.barh(features_df['Feature'], features_df['Importance'], color='skyblue')\n",
    "plt.xlabel('Importance')\n",
    "plt.title('Feature Importance from Random Forest')\n",
    "plt.gca().invert_yaxis()  # Invert y-axis to have the most important at the top\n",
    "plt.show()\n",
    "\n"
   ]
  },
  {
   "cell_type": "code",
   "execution_count": 37,
   "id": "a0ec5ed9",
   "metadata": {},
   "outputs": [
    {
     "name": "stdout",
     "output_type": "stream",
     "text": [
      "Collecting shap\n",
      "  Downloading shap-0.44.1-cp38-cp38-macosx_10_9_x86_64.whl.metadata (24 kB)\n",
      "Requirement already satisfied: numpy in /Users/iramkamdar/opt/anaconda3/envs/Gnowitt/lib/python3.8/site-packages (from shap) (1.24.3)\n",
      "Requirement already satisfied: scipy in /Users/iramkamdar/opt/anaconda3/envs/Gnowitt/lib/python3.8/site-packages (from shap) (1.10.1)\n",
      "Requirement already satisfied: scikit-learn in /Users/iramkamdar/opt/anaconda3/envs/Gnowitt/lib/python3.8/site-packages (from shap) (1.3.0)\n",
      "Requirement already satisfied: pandas in /Users/iramkamdar/opt/anaconda3/envs/Gnowitt/lib/python3.8/site-packages (from shap) (2.0.3)\n",
      "Requirement already satisfied: tqdm>=4.27.0 in /Users/iramkamdar/opt/anaconda3/envs/Gnowitt/lib/python3.8/site-packages (from shap) (4.64.1)\n",
      "Requirement already satisfied: packaging>20.9 in /Users/iramkamdar/opt/anaconda3/envs/Gnowitt/lib/python3.8/site-packages (from shap) (23.0)\n",
      "Collecting slicer==0.0.7 (from shap)\n",
      "  Downloading slicer-0.0.7-py3-none-any.whl.metadata (3.7 kB)\n",
      "Collecting numba (from shap)\n",
      "  Downloading numba-0.58.1-cp38-cp38-macosx_10_9_x86_64.whl.metadata (2.7 kB)\n",
      "Collecting cloudpickle (from shap)\n",
      "  Downloading cloudpickle-3.0.0-py3-none-any.whl.metadata (7.0 kB)\n",
      "Collecting llvmlite<0.42,>=0.41.0dev0 (from numba->shap)\n",
      "  Downloading llvmlite-0.41.1-cp38-cp38-macosx_10_9_x86_64.whl.metadata (4.8 kB)\n",
      "Requirement already satisfied: importlib-metadata in /Users/iramkamdar/opt/anaconda3/envs/Gnowitt/lib/python3.8/site-packages (from numba->shap) (6.0.0)\n",
      "Requirement already satisfied: python-dateutil>=2.8.2 in /Users/iramkamdar/opt/anaconda3/envs/Gnowitt/lib/python3.8/site-packages (from pandas->shap) (2.8.2)\n",
      "Requirement already satisfied: pytz>=2020.1 in /Users/iramkamdar/opt/anaconda3/envs/Gnowitt/lib/python3.8/site-packages (from pandas->shap) (2022.7)\n",
      "Requirement already satisfied: tzdata>=2022.1 in /Users/iramkamdar/opt/anaconda3/envs/Gnowitt/lib/python3.8/site-packages (from pandas->shap) (2023.3)\n",
      "Requirement already satisfied: joblib>=1.1.1 in /Users/iramkamdar/opt/anaconda3/envs/Gnowitt/lib/python3.8/site-packages (from scikit-learn->shap) (1.2.0)\n",
      "Requirement already satisfied: threadpoolctl>=2.0.0 in /Users/iramkamdar/opt/anaconda3/envs/Gnowitt/lib/python3.8/site-packages (from scikit-learn->shap) (2.2.0)\n",
      "Requirement already satisfied: six>=1.5 in /Users/iramkamdar/opt/anaconda3/envs/Gnowitt/lib/python3.8/site-packages (from python-dateutil>=2.8.2->pandas->shap) (1.16.0)\n",
      "Requirement already satisfied: zipp>=0.5 in /Users/iramkamdar/opt/anaconda3/envs/Gnowitt/lib/python3.8/site-packages (from importlib-metadata->numba->shap) (3.11.0)\n",
      "Downloading shap-0.44.1-cp38-cp38-macosx_10_9_x86_64.whl (453 kB)\n",
      "\u001b[2K   \u001b[90m━━━━━━━━━━━━━━━━━━━━━━━━━━━━━━━━━━━━━━━\u001b[0m \u001b[32m453.1/453.1 kB\u001b[0m \u001b[31m865.6 kB/s\u001b[0m eta \u001b[36m0:00:00\u001b[0ma \u001b[36m0:00:01\u001b[0m\n",
      "\u001b[?25hDownloading slicer-0.0.7-py3-none-any.whl (14 kB)\n",
      "Downloading cloudpickle-3.0.0-py3-none-any.whl (20 kB)\n",
      "Downloading numba-0.58.1-cp38-cp38-macosx_10_9_x86_64.whl (2.6 MB)\n",
      "\u001b[2K   \u001b[90m━━━━━━━━━━━━━━━━━━━━━━━━━━━━━━━━━━━━━━━━\u001b[0m \u001b[32m2.6/2.6 MB\u001b[0m \u001b[31m875.4 kB/s\u001b[0m eta \u001b[36m0:00:00\u001b[0m00:01\u001b[0m00:01\u001b[0m\n",
      "\u001b[?25hDownloading llvmlite-0.41.1-cp38-cp38-macosx_10_9_x86_64.whl (31.0 MB)\n",
      "\u001b[2K   \u001b[90m━━━━━━━━━━━━━━━━━━━━━━━━━━━━━━━━━━━━━━━━\u001b[0m \u001b[32m31.0/31.0 MB\u001b[0m \u001b[31m1.3 MB/s\u001b[0m eta \u001b[36m0:00:00\u001b[0m00:01\u001b[0m00:01\u001b[0m0m\n",
      "\u001b[?25hInstalling collected packages: slicer, llvmlite, cloudpickle, numba, shap\n",
      "Successfully installed cloudpickle-3.0.0 llvmlite-0.41.1 numba-0.58.1 shap-0.44.1 slicer-0.0.7\n",
      "\n",
      "\u001b[1m[\u001b[0m\u001b[34;49mnotice\u001b[0m\u001b[1;39;49m]\u001b[0m\u001b[39;49m A new release of pip is available: \u001b[0m\u001b[31;49m24.1\u001b[0m\u001b[39;49m -> \u001b[0m\u001b[32;49m24.2\u001b[0m\n",
      "\u001b[1m[\u001b[0m\u001b[34;49mnotice\u001b[0m\u001b[1;39;49m]\u001b[0m\u001b[39;49m To update, run: \u001b[0m\u001b[32;49mpip install --upgrade pip\u001b[0m\n"
     ]
    }
   ],
   "source": [
    "!pip install shap"
   ]
  },
  {
   "cell_type": "code",
   "execution_count": 38,
   "id": "12762176",
   "metadata": {},
   "outputs": [
    {
     "data": {
      "image/png": "[encoded data removed]",
      "text/plain": [
       "<Figure size 800x390 with 1 Axes>"
      ]
     },
     "metadata": {},
     "output_type": "display_data"
    }
   ],
   "source": [
    "import shap\n",
    "\n",
    "# Initialize the SHAP Explainer with the Random Forest model\n",
    "explainer = shap.TreeExplainer(best_rf_model)\n",
    "\n",
    "# Compute SHAP values for the test set\n",
    "shap_values = explainer.shap_values(X_test)\n",
    "\n",
    "# Summarize the effects of all features\n",
    "shap.summary_plot(shap_values, X_test, plot_type=\"bar\")\n"
   ]
  },
  {
   "cell_type": "code",
   "execution_count": 39,
   "id": "223fd933",
   "metadata": {},
   "outputs": [
    {
     "name": "stdout",
     "output_type": "stream",
     "text": [
      "Requirement already satisfied: nltk in /Users/iramkamdar/opt/anaconda3/envs/Gnowitt/lib/python3.8/site-packages (3.8.1)\n",
      "Requirement already satisfied: pandas in /Users/iramkamdar/opt/anaconda3/envs/Gnowitt/lib/python3.8/site-packages (2.0.3)\n",
      "Requirement already satisfied: click in /Users/iramkamdar/opt/anaconda3/envs/Gnowitt/lib/python3.8/site-packages (from nltk) (8.1.6)\n",
      "Requirement already satisfied: joblib in /Users/iramkamdar/opt/anaconda3/envs/Gnowitt/lib/python3.8/site-packages (from nltk) (1.2.0)\n",
      "Requirement already satisfied: regex>=2021.8.3 in /Users/iramkamdar/opt/anaconda3/envs/Gnowitt/lib/python3.8/site-packages (from nltk) (2023.8.8)\n",
      "Requirement already satisfied: tqdm in /Users/iramkamdar/opt/anaconda3/envs/Gnowitt/lib/python3.8/site-packages (from nltk) (4.64.1)\n",
      "Requirement already satisfied: python-dateutil>=2.8.2 in /Users/iramkamdar/opt/anaconda3/envs/Gnowitt/lib/python3.8/site-packages (from pandas) (2.8.2)\n",
      "Requirement already satisfied: pytz>=2020.1 in /Users/iramkamdar/opt/anaconda3/envs/Gnowitt/lib/python3.8/site-packages (from pandas) (2022.7)\n",
      "Requirement already satisfied: tzdata>=2022.1 in /Users/iramkamdar/opt/anaconda3/envs/Gnowitt/lib/python3.8/site-packages (from pandas) (2023.3)\n",
      "Requirement already satisfied: numpy>=1.20.3 in /Users/iramkamdar/opt/anaconda3/envs/Gnowitt/lib/python3.8/site-packages (from pandas) (1.24.3)\n",
      "Requirement already satisfied: six>=1.5 in /Users/iramkamdar/opt/anaconda3/envs/Gnowitt/lib/python3.8/site-packages (from python-dateutil>=2.8.2->pandas) (1.16.0)\n",
      "\n",
      "\u001b[1m[\u001b[0m\u001b[34;49mnotice\u001b[0m\u001b[1;39;49m]\u001b[0m\u001b[39;49m A new release of pip is available: \u001b[0m\u001b[31;49m24.1\u001b[0m\u001b[39;49m -> \u001b[0m\u001b[32;49m24.2\u001b[0m\n",
      "\u001b[1m[\u001b[0m\u001b[34;49mnotice\u001b[0m\u001b[1;39;49m]\u001b[0m\u001b[39;49m To update, run: \u001b[0m\u001b[32;49mpip install --upgrade pip\u001b[0m\n"
     ]
    }
   ],
   "source": [
    "!pip install nltk pandas"
   ]
  },
  {
   "cell_type": "code",
   "execution_count": 40,
   "id": "01e5b3c0",
   "metadata": {},
   "outputs": [
    {
     "name": "stderr",
     "output_type": "stream",
     "text": [
      "[nltk_data] Downloading package vader_lexicon to\n",
      "[nltk_data]     /Users/iramkamdar/nltk_data...\n",
      "[nltk_data]   Package vader_lexicon is already up-to-date!\n"
     ]
    },
    {
     "name": "stdout",
     "output_type": "stream",
     "text": [
      "              dosage  sentiment\n",
      "0             [45mg]    -0.4596\n",
      "1                 []     0.4215\n",
      "2                 []     0.0000\n",
      "3                 []     0.7086\n",
      "4                 []    -0.8901\n",
      "..               ...        ...\n",
      "394               []    -0.8923\n",
      "395               []     0.0727\n",
      "396  [1200mg, 120mg]    -0.4993\n",
      "397            [5mg]     0.0000\n",
      "398               []     0.3830\n",
      "\n",
      "[399 rows x 2 columns]\n",
      "    Dosage  Average Sentiment  Review Count\n",
      "0    100mg           0.711607            15\n",
      "1   1200mg          -0.499300            22\n",
      "2    120mg          -0.499300            22\n",
      "3    150mg           0.534600             8\n",
      "4   1800mg           0.790600            16\n",
      "5   2700mg           0.790600             8\n",
      "6     30mg          -0.526700            16\n",
      "7     45mg          -0.459600             7\n",
      "8     50mg           0.913900             7\n",
      "9      5mg          -0.024400            34\n",
      "10    60mg          -0.526700             8\n"
     ]
    }
   ],
   "source": [
    "import pandas as pd\n",
    "import re\n",
    "import nltk\n",
    "from nltk.sentiment import SentimentIntensityAnalyzer\n",
    "nltk.download('vader_lexicon')\n",
    "\n",
    "# Load reviews from a CSV file\n",
    "reviews_df = pd.read_csv('drug1 2.csv', usecols=['review'])\n",
    "\n",
    "# Function to extract dosages from reviews\n",
    "def extract_dosage(review):\n",
    "    return re.findall(r'\\d+mg', review)\n",
    "\n",
    "# Apply the function to extract dosages\n",
    "reviews_df['dosage'] = reviews_df['review'].apply(extract_dosage)\n",
    "\n",
    "# Sentiment analysis to determine the sentiment of the review\n",
    "sia = SentimentIntensityAnalyzer()\n",
    "reviews_df['sentiment'] = reviews_df['review'].apply(lambda review: sia.polarity_scores(review)['compound'])\n",
    "\n",
    "# Display initial results\n",
    "print(reviews_df[['dosage', 'sentiment']])\n",
    "\n",
    "# Analyze dosage frequency and average sentiment\n",
    "dosage_sentiment = reviews_df.explode('dosage').groupby('dosage').agg({\n",
    "    'sentiment': ['mean', 'count']\n",
    "}).reset_index()\n",
    "dosage_sentiment.columns = ['Dosage', 'Average Sentiment', 'Review Count']\n",
    "\n",
    "# Display the aggregated dosage sentiment analysis\n",
    "print(dosage_sentiment)\n"
   ]
  },
  {
   "cell_type": "code",
   "execution_count": 41,
   "id": "0148a7fb",
   "metadata": {},
   "outputs": [
    {
     "name": "stdout",
     "output_type": "stream",
     "text": [
      "Requirement already satisfied: matplotlib in /Users/iramkamdar/opt/anaconda3/envs/Gnowitt/lib/python3.8/site-packages (3.7.4)\n",
      "Requirement already satisfied: seaborn in /Users/iramkamdar/opt/anaconda3/envs/Gnowitt/lib/python3.8/site-packages (0.13.2)\n",
      "Requirement already satisfied: contourpy>=1.0.1 in /Users/iramkamdar/opt/anaconda3/envs/Gnowitt/lib/python3.8/site-packages (from matplotlib) (1.1.1)\n",
      "Requirement already satisfied: cycler>=0.10 in /Users/iramkamdar/opt/anaconda3/envs/Gnowitt/lib/python3.8/site-packages (from matplotlib) (0.12.1)\n",
      "Requirement already satisfied: fonttools>=4.22.0 in /Users/iramkamdar/opt/anaconda3/envs/Gnowitt/lib/python3.8/site-packages (from matplotlib) (4.47.2)\n",
      "Requirement already satisfied: kiwisolver>=1.0.1 in /Users/iramkamdar/opt/anaconda3/envs/Gnowitt/lib/python3.8/site-packages (from matplotlib) (1.4.5)\n",
      "Requirement already satisfied: numpy<2,>=1.20 in /Users/iramkamdar/opt/anaconda3/envs/Gnowitt/lib/python3.8/site-packages (from matplotlib) (1.24.3)\n",
      "Requirement already satisfied: packaging>=20.0 in /Users/iramkamdar/opt/anaconda3/envs/Gnowitt/lib/python3.8/site-packages (from matplotlib) (23.0)\n",
      "Requirement already satisfied: pillow>=6.2.0 in /Users/iramkamdar/opt/anaconda3/envs/Gnowitt/lib/python3.8/site-packages (from matplotlib) (10.0.1)\n",
      "Requirement already satisfied: pyparsing>=2.3.1 in /Users/iramkamdar/opt/anaconda3/envs/Gnowitt/lib/python3.8/site-packages (from matplotlib) (3.1.1)\n",
      "Requirement already satisfied: python-dateutil>=2.7 in /Users/iramkamdar/opt/anaconda3/envs/Gnowitt/lib/python3.8/site-packages (from matplotlib) (2.8.2)\n",
      "Requirement already satisfied: importlib-resources>=3.2.0 in /Users/iramkamdar/opt/anaconda3/envs/Gnowitt/lib/python3.8/site-packages (from matplotlib) (5.2.0)\n",
      "Requirement already satisfied: pandas>=1.2 in /Users/iramkamdar/opt/anaconda3/envs/Gnowitt/lib/python3.8/site-packages (from seaborn) (2.0.3)\n",
      "Requirement already satisfied: zipp>=3.1.0 in /Users/iramkamdar/opt/anaconda3/envs/Gnowitt/lib/python3.8/site-packages (from importlib-resources>=3.2.0->matplotlib) (3.11.0)\n",
      "Requirement already satisfied: pytz>=2020.1 in /Users/iramkamdar/opt/anaconda3/envs/Gnowitt/lib/python3.8/site-packages (from pandas>=1.2->seaborn) (2022.7)\n",
      "Requirement already satisfied: tzdata>=2022.1 in /Users/iramkamdar/opt/anaconda3/envs/Gnowitt/lib/python3.8/site-packages (from pandas>=1.2->seaborn) (2023.3)\n",
      "Requirement already satisfied: six>=1.5 in /Users/iramkamdar/opt/anaconda3/envs/Gnowitt/lib/python3.8/site-packages (from python-dateutil>=2.7->matplotlib) (1.16.0)\n",
      "\n",
      "\u001b[1m[\u001b[0m\u001b[34;49mnotice\u001b[0m\u001b[1;39;49m]\u001b[0m\u001b[39;49m A new release of pip is available: \u001b[0m\u001b[31;49m24.1\u001b[0m\u001b[39;49m -> \u001b[0m\u001b[32;49m24.2\u001b[0m\n",
      "\u001b[1m[\u001b[0m\u001b[34;49mnotice\u001b[0m\u001b[1;39;49m]\u001b[0m\u001b[39;49m To update, run: \u001b[0m\u001b[32;49mpip install --upgrade pip\u001b[0m\n"
     ]
    }
   ],
   "source": [
    "!pip install matplotlib seaborn\n"
   ]
  },
  {
   "cell_type": "code",
   "execution_count": 48,
   "id": "c52a362f",
   "metadata": {},
   "outputs": [
    {
     "name": "stderr",
     "output_type": "stream",
     "text": [
      "\n",
      "\n",
      "Passing `palette` without assigning `hue` is deprecated and will be removed in v0.14.0. Assign the `y` variable to `hue` and set `legend=False` for the same effect.\n",
      "\n"
     ]
    },
    {
     "data": {
      "image/png": "[encoded data removed]",
      "text/plain": [
       "<Figure size 1000x600 with 1 Axes>"
      ]
     },
     "metadata": {},
     "output_type": "display_data"
    },
    {
     "name": "stderr",
     "output_type": "stream",
     "text": [
      "\n",
      "\n",
      "Passing `palette` without assigning `hue` is deprecated and will be removed in v0.14.0. Assign the `x` variable to `hue` and set `legend=False` for the same effect.\n",
      "\n"
     ]
    },
    {
     "data": {
      "image/png": "[encoded data removed]",
      "text/plain": [
       "<Figure size 1000x600 with 1 Axes>"
      ]
     },
     "metadata": {},
     "output_type": "display_data"
    },
    {
     "data": {
      "text/plain": [
       "<Figure size 1000x600 with 0 Axes>"
      ]
     },
     "metadata": {},
     "output_type": "display_data"
    },
    {
     "data": {
      "image/png": "[encoded data removed]",
      "text/plain": [
       "<Figure size 640x480 with 1 Axes>"
      ]
     },
     "metadata": {},
     "output_type": "display_data"
    }
   ],
   "source": [
    "import matplotlib.pyplot as plt\n",
    "import seaborn as sns\n",
    "import pandas as pd\n",
    "\n",
    "\n",
    "# Assuming you have a trained Random Forest model and feature names in 'features'\n",
    "features_list = ['age', 'temperature', 'bp_abnormal', 'bp_normal', 'sugar_abnormal', 'sugar_normal']\n",
    "\n",
    "feature_importances_rf = best_rf_model.feature_importances_\n",
    "features = features_list  # features_list is a list of feature names used in the model\n",
    "\n",
    "# Feature Importance Visualization\n",
    "plt.figure(figsize=(10, 6))\n",
    "sns.barplot(x=feature_importances_rf, y=features, palette='viridis')\n",
    "plt.title('Feature Importance from Random Forest')\n",
    "plt.xlabel('Importance')\n",
    "plt.ylabel('Features')\n",
    "plt.show()\n",
    "\n",
    "# Assuming 'drug1_df' is a DataFrame with the correct columns\n",
    "dosage_df = drug1_df[['dosage', 'sentiment']]\n",
    "\n",
    "# Dosage Analysis Visualization\n",
    "plt.figure(figsize=(10, 6))\n",
    "sns.barplot(x='dosage', y='sentiment', data=dosage_df, palette='coolwarm')\n",
    "plt.title('Average Sentiment by Dosage')\n",
    "plt.ylabel('Average Sentiment Score')\n",
    "plt.xlabel('Dosage')\n",
    "plt.show()\n",
    "\n",
    "\n",
    "# Assuming you have a dictionary or DataFrame 'metrics' for the models\n",
    "metrics_df = pd.DataFrame(metrics)  # metrics_dict contains metrics with models as keys\n",
    "\n",
    "# Model Evaluation Metrics Visualization\n",
    "plt.figure(figsize=(10, 6))\n",
    "metrics_df.plot(kind='bar', colormap='Accent')\n",
    "plt.title('Comparison of Model Evaluation Metrics')\n",
    "plt.ylabel('Score')\n",
    "plt.xticks(rotation=0)\n",
    "plt.show()\n",
    "\n"
   ]
  },
  {
   "cell_type": "code",
   "execution_count": 46,
   "id": "2896c3ca",
   "metadata": {},
   "outputs": [
    {
     "name": "stdout",
     "output_type": "stream",
     "text": [
      "Index(['drug', 'dosage', 'condition', 'review', 'rating', 'usefulCount', 'bp',\n",
      "       'sugar', 'temperature', 'age', 'Sideeffects', 'sentiment'],\n",
      "      dtype='object')\n"
     ]
    }
   ],
   "source": [
    "print(drug1_df.columns)\n"
   ]
  },
  {
   "cell_type": "code",
   "execution_count": null,
   "id": "af8ed8f5",
   "metadata": {},
   "outputs": [],
   "source": []
  }
 ],
 "metadata": {
  "kernelspec": {
   "display_name": "Python 3 (ipykernel)",
   "language": "python",
   "name": "python3"
  },
  "language_info": {
   "codemirror_mode": {
    "name": "ipython",
    "version": 3
   },
   "file_extension": ".py",
   "mimetype": "text/x-python",
   "name": "python",
   "nbconvert_exporter": "python",
   "pygments_lexer": "ipython3",
   "version": "3.8.17"
  }
 },
 "nbformat": 4,
 "nbformat_minor": 5
}
